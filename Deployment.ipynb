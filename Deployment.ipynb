{
 "cells": [
  {
   "cell_type": "markdown",
   "id": "2fe5c893",
   "metadata": {},
   "source": [
    "# Deployment"
   ]
  },
  {
   "cell_type": "code",
   "execution_count": null,
   "id": "38b679c7",
   "metadata": {},
   "outputs": [
    {
     "name": "stdout",
     "output_type": "stream",
     "text": [
      "* Flask starting server...please wait until server has fully started\n",
      " * Serving Flask app '__main__'\n",
      " * Debug mode: off\n"
     ]
    },
    {
     "name": "stderr",
     "output_type": "stream",
     "text": [
      "2024-08-20 20:53:37.463739: I tensorflow/core/platform/cpu_feature_guard.cc:193] This TensorFlow binary is optimized with oneAPI Deep Neural Network Library (oneDNN) to use the following CPU instructions in performance-critical operations:  SSE4.1 SSE4.2\n",
      "To enable them in other operations, rebuild TensorFlow with the appropriate compiler flags.\n",
      "WARNING: This is a development server. Do not use it in a production deployment. Use a production WSGI server instead.\n",
      " * Running on http://127.0.0.1:5000\n",
      "Press CTRL+C to quit\n",
      "127.0.0.1 - - [20/Aug/2024 20:53:45] \"GET / HTTP/1.1\" 200 -\n",
      "127.0.0.1 - - [20/Aug/2024 20:53:45] \"GET /favicon.ico HTTP/1.1\" 404 -\n"
     ]
    },
    {
     "name": "stdout",
     "output_type": "stream",
     "text": [
      "1/1 [==============================] - 0s 185ms/step\n"
     ]
    },
    {
     "name": "stderr",
     "output_type": "stream",
     "text": [
      "127.0.0.1 - - [20/Aug/2024 20:54:19] \"POST / HTTP/1.1\" 200 -\n",
      "127.0.0.1 - - [20/Aug/2024 20:54:29] \"GET / HTTP/1.1\" 200 -\n"
     ]
    },
    {
     "name": "stdout",
     "output_type": "stream",
     "text": [
      "1/1 [==============================] - 0s 29ms/step\n"
     ]
    },
    {
     "name": "stderr",
     "output_type": "stream",
     "text": [
      "127.0.0.1 - - [20/Aug/2024 20:54:36] \"POST / HTTP/1.1\" 200 -\n",
      "127.0.0.1 - - [20/Aug/2024 20:54:42] \"GET / HTTP/1.1\" 200 -\n"
     ]
    },
    {
     "name": "stdout",
     "output_type": "stream",
     "text": [
      "1/1 [==============================] - 0s 29ms/step\n"
     ]
    },
    {
     "name": "stderr",
     "output_type": "stream",
     "text": [
      "127.0.0.1 - - [20/Aug/2024 20:54:50] \"POST / HTTP/1.1\" 200 -\n",
      "127.0.0.1 - - [20/Aug/2024 20:55:01] \"GET / HTTP/1.1\" 200 -\n"
     ]
    },
    {
     "name": "stdout",
     "output_type": "stream",
     "text": [
      "1/1 [==============================] - 0s 34ms/step\n"
     ]
    },
    {
     "name": "stderr",
     "output_type": "stream",
     "text": [
      "127.0.0.1 - - [20/Aug/2024 20:55:06] \"POST / HTTP/1.1\" 200 -\n"
     ]
    }
   ],
   "source": [
    "# import the necessary packages\n",
    "from tensorflow.keras.models import load_model\n",
    "from tensorflow.keras.utils import load_img, img_to_array\n",
    "from PIL import Image\n",
    "import numpy as np\n",
    "import flask\n",
    "import io\n",
    "\n",
    "# initialize Flask application\n",
    "app = flask.Flask(__name__)\n",
    "\n",
    "@app.route(\"/\", methods=[\"POST\",\"GET\"])\n",
    "def index():\n",
    "\n",
    "    if flask.request.method == \"GET\":\n",
    "        return flask.render_template('index.html')\n",
    "    data = {}\n",
    "\n",
    "    # load image\n",
    "    if flask.request.method == \"POST\":\n",
    "        if flask.request.files.get(\"image\"):\n",
    "       \n",
    "            # read the image in PIL format\n",
    "            image = flask.request.files[\"image\"].read()\n",
    "            image = Image.open(io.BytesIO(image))\n",
    "            \n",
    "            # preprocess the image and prepare it for classification\n",
    "            image = prepare_image(image, target=(224, 224))\n",
    "\n",
    "            # classify the input image and then initialize the list\n",
    "            # of predictions to return to the client\n",
    "            preds = model.predict(image)\n",
    "\n",
    "            if preds[0,0] > 0.5:\n",
    "                result =\"Normal Image\"\n",
    "            else:\n",
    "                result =\"Abnormal Image\"                   \n",
    "                       \n",
    "            data[\"predictions result: \"] = result            \n",
    "          \n",
    "    # return the data \n",
    "    return flask.jsonify(data)\n",
    "\n",
    "def prepare_image(image, target):\n",
    "\n",
    "    # if the image mode is not three channels, convert it\n",
    "    if image.mode != \"RGB\":\n",
    "        image = image.convert(\"RGB\")\n",
    "    \n",
    "    # resize the input image and preprocess it\n",
    "    image = image.resize(target)\n",
    "    image = img_to_array(image)\n",
    "    image = np.expand_dims(image, axis=0)\n",
    "    image = image.astype('float32')\n",
    "    image = image / 255\n",
    " \n",
    "    return image\n",
    "\n",
    "# start the server\n",
    "if __name__ == \"__main__\":\n",
    "    print((\"* Flask starting server...\"\n",
    "        \"please wait until server has fully started\"))\n",
    "    global model\n",
    "    model = load_model('medical_diagnosis_cnn_model.h5')\n",
    "    app.run()"
   ]
  },
  {
   "cell_type": "code",
   "execution_count": null,
   "id": "e884a55a",
   "metadata": {},
   "outputs": [],
   "source": []
  }
 ],
 "metadata": {
  "kernelspec": {
   "display_name": "Python 3 (ipykernel)",
   "language": "python",
   "name": "python3"
  },
  "language_info": {
   "codemirror_mode": {
    "name": "ipython",
    "version": 3
   },
   "file_extension": ".py",
   "mimetype": "text/x-python",
   "name": "python",
   "nbconvert_exporter": "python",
   "pygments_lexer": "ipython3",
   "version": "3.10.9"
  }
 },
 "nbformat": 4,
 "nbformat_minor": 5
}
